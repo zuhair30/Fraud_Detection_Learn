{
 "cells": [
  {
   "cell_type": "markdown",
   "id": "b068d1fb",
   "metadata": {},
   "source": [
    "# Lending Club Case Study (NAZ and SYED)\n",
    "## Steps Executed \n",
    "### Loading Data and Data Inspection using Pandas (Loan.csv from local)\n",
    "### Data Distribution using Histograms\n",
    "### Univariate Analysis using Bar plots, Scatter Plots, Area Plots, Pie Charts,Point Plots\n",
    "### Bivariate analysis using Pairplots, Box plots,\n",
    "### Missing Value Visualization\n",
    "### Correlation Visualization using Heatmaps\n",
    "####  Analysis is done using these variables:\n",
    "##### Categorical : home_owner,sub_grade,grade,loan_status,application_type,verification_status\n",
    "##### Continuous : \n",
    "\n",
    "\n",
    "\n"
   ]
  }
 ],
 "metadata": {
  "kernelspec": {
   "display_name": "Python 3 (ipykernel)",
   "language": "python",
   "name": "python3"
  },
  "language_info": {
   "codemirror_mode": {
    "name": "ipython",
    "version": 3
   },
   "file_extension": ".py",
   "mimetype": "text/x-python",
   "name": "python",
   "nbconvert_exporter": "python",
   "pygments_lexer": "ipython3",
   "version": "3.11.4"
  }
 },
 "nbformat": 4,
 "nbformat_minor": 5
}
